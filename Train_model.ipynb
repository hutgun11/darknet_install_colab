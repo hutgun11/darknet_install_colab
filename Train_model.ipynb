{
  "nbformat": 4,
  "nbformat_minor": 0,
  "metadata": {
    "colab": {
      "name": "Train_model",
      "provenance": [],
      "collapsed_sections": [],
      "authorship_tag": "ABX9TyMSPqNKM/Qwqiyn0wFCVV93",
      "include_colab_link": true
    },
    "kernelspec": {
      "name": "python3",
      "display_name": "Python 3"
    },
    "language_info": {
      "name": "python"
    },
    "accelerator": "GPU"
  },
  "cells": [
    {
      "cell_type": "markdown",
      "metadata": {
        "id": "view-in-github",
        "colab_type": "text"
      },
      "source": [
        "<a href=\"https://colab.research.google.com/github/hutgun11/InternshipF1/blob/master/Train_model.ipynb\" target=\"_parent\"><img src=\"https://colab.research.google.com/assets/colab-badge.svg\" alt=\"Open In Colab\"/></a>"
      ]
    },
    {
      "cell_type": "markdown",
      "metadata": {
        "id": "1U6cPeyMjMaC"
      },
      "source": [
        "**Shift+Enter for run cell**"
      ]
    },
    {
      "cell_type": "markdown",
      "metadata": {
        "id": "a88A4wZxIZvS"
      },
      "source": [
        "**Request access to google Drive**\n"
      ]
    },
    {
      "cell_type": "code",
      "metadata": {
        "colab": {
          "base_uri": "https://localhost:8080/"
        },
        "id": "lNN-2BZjIG38",
        "outputId": "f31dbf42-de13-4667-962f-93115e423b5d"
      },
      "source": [
        "from google.colab import drive\n",
        "drive.mount('/content/drive',force_remount=True)"
      ],
      "execution_count": null,
      "outputs": [
        {
          "output_type": "stream",
          "text": [
            "Go to this URL in a browser: https://accounts.google.com/o/oauth2/auth?client_id=947318989803-6bn6qk8qdgf4n4g3pfee6491hc0brc4i.apps.googleusercontent.com&redirect_uri=urn%3aietf%3awg%3aoauth%3a2.0%3aoob&scope=email%20https%3a%2f%2fwww.googleapis.com%2fauth%2fdocs.test%20https%3a%2f%2fwww.googleapis.com%2fauth%2fdrive%20https%3a%2f%2fwww.googleapis.com%2fauth%2fdrive.photos.readonly%20https%3a%2f%2fwww.googleapis.com%2fauth%2fpeopleapi.readonly%20https%3a%2f%2fwww.googleapis.com%2fauth%2fdrive.activity.readonly%20https%3a%2f%2fwww.googleapis.com%2fauth%2fexperimentsandconfigs%20https%3a%2f%2fwww.googleapis.com%2fauth%2fphotos.native&response_type=code\n",
            "\n",
            "Enter your authorization code:\n",
            "4/1AY0e-g4kuPbVBWO-ojsAaS8nrQnOZB1TSFFCAUMtBFBXRpmm0s9IubSlBfw\n",
            "Go to this URL in a browser: https://accounts.google.com/o/oauth2/auth?client_id=947318989803-6bn6qk8qdgf4n4g3pfee6491hc0brc4i.apps.googleusercontent.com&redirect_uri=urn%3aietf%3awg%3aoauth%3a2.0%3aoob&scope=email%20https%3a%2f%2fwww.googleapis.com%2fauth%2fdocs.test%20https%3a%2f%2fwww.googleapis.com%2fauth%2fdrive%20https%3a%2f%2fwww.googleapis.com%2fauth%2fdrive.photos.readonly%20https%3a%2f%2fwww.googleapis.com%2fauth%2fpeopleapi.readonly%20https%3a%2f%2fwww.googleapis.com%2fauth%2fdrive.activity.readonly%20https%3a%2f%2fwww.googleapis.com%2fauth%2fexperimentsandconfigs%20https%3a%2f%2fwww.googleapis.com%2fauth%2fphotos.native&response_type=code\n",
            "\n",
            "Enter your authorization code:\n",
            "\n",
            "Mounted at /content/drive\n",
            "Mounted at /content/drive\n"
          ],
          "name": "stdout"
        }
      ]
    },
    {
      "cell_type": "markdown",
      "metadata": {
        "id": "vKDWC4jEIgDP"
      },
      "source": [
        "**Check GPU type**"
      ]
    },
    {
      "cell_type": "code",
      "metadata": {
        "colab": {
          "base_uri": "https://localhost:8080/"
        },
        "id": "3q-mf4yqIb9-",
        "outputId": "29649fa3-4293-4234-c0a3-12263df4b48a"
      },
      "source": [
        "!nvidia-smi -L"
      ],
      "execution_count": null,
      "outputs": [
        {
          "output_type": "stream",
          "text": [
            "GPU 0: Tesla P100-PCIE-16GB (UUID: GPU-17ae4713-8d49-8526-6d20-805ab4d3879d)\n"
          ],
          "name": "stdout"
        }
      ]
    },
    {
      "cell_type": "markdown",
      "metadata": {
        "id": "tycB1kjNImtP"
      },
      "source": [
        "**Go into the Darknet path**"
      ]
    },
    {
      "cell_type": "code",
      "metadata": {
        "colab": {
          "base_uri": "https://localhost:8080/"
        },
        "id": "4THMevSpImK3",
        "outputId": "e34c03ea-971b-4dd4-d085-d5a091285b25"
      },
      "source": [
        "# %cd content/\n",
        "%cd drive\n",
        "%cd /content/drive/My Drive/darknet\n",
        "!chmod +x darknet\n",
        "%ls"
      ],
      "execution_count": null,
      "outputs": [
        {
          "output_type": "stream",
          "text": [
            "/content/drive\n",
            "/content/drive/My Drive/darknet\n",
            "\u001b[0m\u001b[01;34m3rdparty\u001b[0m/       DarknetConfig.cmake.in  json_mjpeg_streams.sh  \u001b[01;34mscripts\u001b[0m/\n",
            "\u001b[01;34mbackup\u001b[0m/         darknet_images.py       LICENSE                \u001b[01;34msrc\u001b[0m/\n",
            "\u001b[01;34mbuild\u001b[0m/          darknet.py              Makefile               vcpkg.json\n",
            "build.ps1       darknet_video.py        \u001b[01;34mmodel-config\u001b[0m/          video_yolov3.sh\n",
            "build.sh        \u001b[01;34mdata\u001b[0m/                   net_cam_v3.sh          video_yolov4.sh\n",
            "\u001b[01;34mcfg\u001b[0m/            \u001b[01;34mdataset\u001b[0m/                net_cam_v4.sh          yolov4.conv.137\n",
            "\u001b[01;34mcmake\u001b[0m/          image_yolov3.sh         \u001b[01;34mobj\u001b[0m/\n",
            "CMakeLists.txt  image_yolov4.sh         README.md\n",
            "\u001b[01;32mdarknet\u001b[0m*        \u001b[01;34minclude\u001b[0m/                \u001b[01;34mresults\u001b[0m/\n"
          ],
          "name": "stdout"
        }
      ]
    },
    {
      "cell_type": "markdown",
      "metadata": {
        "id": "nJfVGmWnIxBW"
      },
      "source": [
        "**Prepare for trainng**"
      ]
    },
    {
      "cell_type": "code",
      "metadata": {
        "colab": {
          "base_uri": "https://localhost:8080/"
        },
        "id": "MfUQvZ6GIr32",
        "outputId": "1686779b-cd5e-42bc-d979-a91be340e7eb"
      },
      "source": [
        "!wc -l model-config/train.txt\n",
        "!wc -l model-config/test.txt\n",
        "!ls -la dataset/images/*.jpg | wc -l\n",
        "!ls -la dataset/images/*.txt | wc -l\n",
        "!cat model-config/trainer.data\n",
        "!cat model-config/objects.names\n",
        "!head model-config/yolo_full.cfg\n"
      ],
      "execution_count": null,
      "outputs": [
        {
          "output_type": "stream",
          "text": [
            "6996 model-config/train.txt\n",
            "778 model-config/test.txt\n",
            "7789\n",
            "7789\n",
            "classes= 3\n",
            "train  = model-config/train.txt  \n",
            "valid  = model-config/test.txt  \n",
            "names = model-config/objects.names  \n",
            "backup = backup\n",
            "Ads_202010_Pepsi\n",
            "Ads_202010_Mirinda\n",
            "Ads_202010_Lipton[net]\n",
            "batch=8\n",
            "subdivisions=4\n",
            "# Training\n",
            "#width=512\n",
            "#height=512\n",
            "width=416\n",
            "height=416\n",
            "channels=3\n",
            "momentum=0.9\n"
          ],
          "name": "stdout"
        }
      ]
    },
    {
      "cell_type": "markdown",
      "metadata": {
        "id": "pNIrUb_OI8FF"
      },
      "source": [
        "**Trainng model**"
      ]
    },
    {
      "cell_type": "code",
      "metadata": {
        "id": "yKiEk9rkI7Zl"
      },
      "source": [
        "%%capture\n",
        "!./darknet detector train model-config/trainer.data model-config/yolo_full.cfg yolov4.conv.137 -dont_show -map >> log.txt"
      ],
      "execution_count": null,
      "outputs": []
    },
    {
      "cell_type": "markdown",
      "metadata": {
        "id": "xnpr5_89rZZm"
      },
      "source": [
        "**Retrain_model**"
      ]
    },
    {
      "cell_type": "code",
      "metadata": {
        "id": "BtRGJr2yrXV2"
      },
      "source": [
        "%%capture\n",
        "!./darknet detector train model-config/trainer.data model-config/yolo_full.cfg backup/lastweight.weights -dont_show -map >> log.txt"
      ],
      "execution_count": null,
      "outputs": []
    }
  ]
}